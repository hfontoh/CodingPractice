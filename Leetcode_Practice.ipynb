{
  "nbformat": 4,
  "nbformat_minor": 0,
  "metadata": {
    "colab": {
      "provenance": [],
      "collapsed_sections": [],
      "toc_visible": true,
      "authorship_tag": "ABX9TyMf/BSBiDpkPDkXwdTLU9jV",
      "include_colab_link": true
    },
    "kernelspec": {
      "name": "python3",
      "display_name": "Python 3"
    },
    "language_info": {
      "name": "python"
    }
  },
  "cells": [
    {
      "cell_type": "markdown",
      "metadata": {
        "id": "view-in-github",
        "colab_type": "text"
      },
      "source": [
        "<a href=\"https://colab.research.google.com/github/hfontoh/CodingPractice/blob/main/Leetcode_Practice.ipynb\" target=\"_parent\"><img src=\"https://colab.research.google.com/assets/colab-badge.svg\" alt=\"Open In Colab\"/></a>"
      ]
    },
    {
      "cell_type": "markdown",
      "source": [
        "Find all  the  duplicates in a array Given an integer array nums of\n",
        " length n where all the integers of nums are in the range [1, n] and \n",
        " each integer appears once or twice, return an array of all the integers \n",
        " that appears twice. You must write an algorithm that runs in O(n) \n",
        " time and uses only constant extra space.\n",
        " "
      ],
      "metadata": {
        "id": "S4v6GBn1WWbh"
      }
    },
    {
      "cell_type": "code",
      "source": [
        "class Solution:\n",
        "  def __init__(self,a_list):\n",
        "    self._list =a_list\n",
        "\n",
        "  def findDuplicates(self):\n",
        "    seen =set()\n",
        "    duplicates=[]\n",
        "    for  x in self._list:\n",
        "      if x in seen:\n",
        "         if x not in  duplicates: duplicates.append(x)\n",
        "      else:\n",
        "        seen.add(x)\n",
        "    return duplicates\n",
        "\n",
        "new_list=[ 1,2,2,2,2,3,3,3,3,3]\n",
        "obj =Solution(new_list)\n",
        "print(obj.findDuplicates())\n",
        "\n",
        "\"\"\"\" using list comprehension\"\"\"\"\"\n",
        "\n",
        "from collections import Counter\n",
        "\n",
        "duplicates_list= [k for k,v in Counter(new_list).items() if v>1]\n",
        "print(duplicates_list)\n"
      ],
      "metadata": {
        "colab": {
          "base_uri": "https://localhost:8080/"
        },
        "id": "rO66uYOktEFh",
        "outputId": "3b381dcf-7373-4f53-b8e7-8d1df236d7a0"
      },
      "execution_count": 20,
      "outputs": [
        {
          "output_type": "stream",
          "name": "stdout",
          "text": [
            "[2, 3]\n",
            "[2, 3]\n"
          ]
        }
      ]
    },
    {
      "cell_type": "code",
      "source": [
        "def isPalindrome(s):\n",
        "  return (True if s==s[::-1] else False)\n",
        "\n",
        "#whole number division to  get the midpoint \n",
        "#given  string  s= \"redivider \" i want to  compare if  s[first]== s[last], s[first+1]=s[last-1] etc\n",
        "\n",
        "def isPalindrome2(s):\n",
        "  mystring =[i  for i in s]\n",
        "  l = len(mystring)//2\n",
        "  for i in range(0,l):\n",
        "    if mystring[i] != mystring[len(mystring)-1-i]:\n",
        "      return False\n",
        "  return True\n",
        "\n",
        "\n",
        "\n",
        "s='civic'\n",
        "t= 'abracadabra'\n",
        "print(isPalindrome(t))\n",
        "print(isPalindrome2(s))\n",
        "\n",
        "# the longest substring palindrome\n",
        "def longestSubStringPalindrome(s):\n",
        "  \n",
        "  length=0\n",
        "  longest_palindrome =''\n",
        "  word_list =[i for i in s]\n",
        "  for i in range(0, len(word_list)-1):\n",
        "     word=''+ (str(word_list[i]))\n",
        "     for j in range(i+1,len(word_list)):\n",
        "       word= word + (str(word_list[j]))\n",
        "       if isPalindrome(word):\n",
        "         if len(word)> length:\n",
        "           length=len(word)\n",
        "           longest_palindrome=word\n",
        "  if (longest_palindrome) !='':\n",
        "    return print('The longest substring palindrome is: ', longest_palindrome)\n",
        "  else:\n",
        "    return print('No palindrome sub string found')\n",
        "\n",
        "palin= 'abbaracudducah'\n",
        "longestSubStringPalindrome(palin)"
      ],
      "metadata": {
        "colab": {
          "base_uri": "https://localhost:8080/"
        },
        "id": "u28T_Hq40Ggj",
        "outputId": "b5ec086c-745a-4d81-d816-f50ce6db94eb"
      },
      "execution_count": 25,
      "outputs": [
        {
          "output_type": "stream",
          "name": "stdout",
          "text": [
            "False\n",
            "True\n",
            "The longest substring palindrome is:  acudduca\n"
          ]
        }
      ]
    },
    {
      "cell_type": "markdown",
      "source": [
        "\"\"\"\n",
        "\n",
        "811. Subdomain Visit Count\n",
        "\n",
        "A website domain \"discuss.leetcode.com\" consists of various subdomains. At the top level, we have \"com\", at the next level, we have \"leetcode.com\" and at the lowest level, \"discuss.leetcode.com\". When we visit a domain like \"discuss.leetcode.com\", we will also visit the parent domains \"leetcode.com\" and \"com\" implicitly.\n",
        "\n",
        "A count-paired domain is a domain that has one of the two formats \"rep d1.d2.d3\" or \"rep d1.d2\" where rep is the number of visits to the domain and d1.d2.d3 is the domain itself.\n",
        "\n",
        "For example, \"9001 discuss.leetcode.com\" is a count-paired domain that indicates that discuss.leetcode.com was visited 9001 times.\n",
        "Given an array of count-paired domains cpdomains, return an array of the count-paired domains of each subdomain in the input. You may return the answer in any order.\n",
        "\n",
        "Example 1:\n",
        "\n",
        "Input: cpdomains = [\"9001 discuss.leetcode.com\"]\n",
        "Output: [\"9001 leetcode.com\",\"9001 discuss.leetcode.com\",\"9001 com\"]\n",
        "Explanation: We only have one website domain: \"discuss.leetcode.com\".\n",
        "As discussed above, the subdomain \"leetcode.com\" and \"com\" will also be visited. So they will all be visited 9001 times.\n",
        "Example 2:\n",
        "\n",
        "Input: cpdomains = [\"900 google.mail.com\", \"50 yahoo.com\", \"1 intel.mail.com\", \"5 wiki.org\"]\n",
        "Output: [\"901 mail.com\",\"50 yahoo.com\",\"900 google.mail.com\",\"5 wiki.org\",\"5 org\",\"1 intel.mail.com\",\"951 com\"]\n",
        "Explanation: We will visit \"google.mail.com\" 900 times, \"yahoo.com\" 50 times, \"intel.mail.com\" once and \"wiki.org\" 5 times.\n",
        "For the "
      ],
      "metadata": {
        "id": "jlhMWz9RPZxu"
      }
    },
    {
      "cell_type": "code",
      "source": [
        "import collections\n",
        "\n",
        "class Solution:\n",
        "  \n",
        "  def __init__(self, a_list):\n",
        "    self._list=a_list\n",
        "  \n",
        "  def subdomainVisits(self):\n",
        "    cnt= collections.Counter()\n",
        "    for i in self._list:\n",
        "      freq, domain = i.split(\" \") \n",
        "      freq= int(freq)\n",
        "      cnt[domain] = freq\n",
        "      for j,k in enumerate(domain):\n",
        "        if k=='.':\n",
        "          cnt[domain[j+1:]]+=freq\n",
        "    print(cnt.items())\n",
        "\n",
        "\n",
        "cpdomains = [\"900 google.mail.com\", \"50 yahoo.com\", \"1 intel.mail.com\", \"5 wiki.org\"]\n",
        "obj= Solution(cpdomains)\n",
        "obj.subdomainVisits()\n",
        "\n"
      ],
      "metadata": {
        "colab": {
          "base_uri": "https://localhost:8080/"
        },
        "id": "tKyZD3803yfT",
        "outputId": "d7fa53fb-8938-4ee7-baf0-f41f3fa7ad25"
      },
      "execution_count": 21,
      "outputs": [
        {
          "output_type": "stream",
          "name": "stdout",
          "text": [
            "dict_items([('google.mail.com', 900), ('mail.com', 901), ('com', 951), ('yahoo.com', 50), ('intel.mail.com', 1), ('wiki.org', 5), ('org', 5)])\n"
          ]
        }
      ]
    }
  ]
}