{
  "nbformat": 4,
  "nbformat_minor": 0,
  "metadata": {
    "colab": {
      "provenance": [],
      "toc_visible": true,
      "authorship_tag": "ABX9TyMKUofFzxKFci3SIdEtr630",
      "include_colab_link": true
    },
    "kernelspec": {
      "name": "python3",
      "display_name": "Python 3"
    },
    "language_info": {
      "name": "python"
    }
  },
  "cells": [
    {
      "cell_type": "markdown",
      "metadata": {
        "id": "view-in-github",
        "colab_type": "text"
      },
      "source": [
        "<a href=\"https://colab.research.google.com/github/hfontoh/CodingPractice/blob/main/Leetcode_Practice.ipynb\" target=\"_parent\"><img src=\"https://colab.research.google.com/assets/colab-badge.svg\" alt=\"Open In Colab\"/></a>"
      ]
    },
    {
      "cell_type": "code",
      "source": [
        "\"\"\"\" Find all  the  duplicates in a array\"\"\"\n",
        "\n",
        "class Solution():\n",
        "  def __init__(self,a_list):\n",
        "    self._list =a_list\n",
        "\n",
        "  def findDuplicates(self):\n",
        "    seen =set()\n",
        "    duplicates=[]\n",
        "    for  x in self._list:\n",
        "      if x in seen:\n",
        "         if x not in  duplicates: duplicates.append(x)\n",
        "      else:\n",
        "        seen.add(x)\n",
        "    return duplicates\n",
        "\n",
        "new_list=[ 1,2,2,2,2,3,3,3,3,3]\n",
        "obj =Solution(new_list)\n",
        "print(obj.findDuplicates())\n",
        "\n",
        "\"\"\"\" using list comprehension\"\"\"\"\"\n",
        "\n",
        "from collections import Counter\n",
        "\n",
        "duplicates_list= [k for k,v in Counter(new_list).items() if v>1]\n",
        "print(duplicates_list)\n"
      ],
      "metadata": {
        "colab": {
          "base_uri": "https://localhost:8080/"
        },
        "id": "rO66uYOktEFh",
        "outputId": "d19cfeb9-002f-469c-9f01-cd333edfcc5a"
      },
      "execution_count": 4,
      "outputs": [
        {
          "output_type": "stream",
          "name": "stdout",
          "text": [
            "[2, 3]\n",
            "[2, 3]\n"
          ]
        }
      ]
    }
  ]
}