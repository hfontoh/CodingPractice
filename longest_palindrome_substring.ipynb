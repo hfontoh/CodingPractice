{
  "nbformat": 4,
  "nbformat_minor": 0,
  "metadata": {
    "colab": {
      "name": "Untitled12.ipynb",
      "provenance": [],
      "include_colab_link": true
    },
    "kernelspec": {
      "name": "python3",
      "display_name": "Python 3"
    },
    "language_info": {
      "name": "python"
    }
  },
  "cells": [
    {
      "cell_type": "markdown",
      "metadata": {
        "id": "view-in-github",
        "colab_type": "text"
      },
      "source": [
        "<a href=\"https://colab.research.google.com/github/hfontoh/CodingPractice/blob/main/longest_palindrome_substring.ipynb\" target=\"_parent\"><img src=\"https://colab.research.google.com/assets/colab-badge.svg\" alt=\"Open In Colab\"/></a>"
      ]
    },
    {
      "cell_type": "code",
      "metadata": {
        "colab": {
          "base_uri": "https://localhost:8080/"
        },
        "id": "UYGQOJ-qEbCg",
        "outputId": "ff34d11e-920e-4dcc-bf1c-cf1ad73e3d1f"
      },
      "source": [
        "def isPalindrome(s):\n",
        "  rev=''.join(reversed(s))\n",
        "  if s== rev:\n",
        "    return True\n",
        "  else:\n",
        "    return False\n",
        "\n",
        "def isPalindrome2(s):\n",
        "  mystring =[i  for i in s]\n",
        "  \n",
        "  # whole number division to  get the midpoint \n",
        "  # given  string  s= \"redivider \" i want to  compare if  s[first]== s[last], s[first+1]=s[last-1] etc\n",
        "  \n",
        "  l = len(mystring)//2\n",
        "\n",
        "  for i in range(0,l):\n",
        "    if mystring[i] != mystring[len(mystring)-1-i]:\n",
        "      return False\n",
        "  return True\n",
        "\n",
        "\n",
        "\n",
        "s='civic'\n",
        "t= 'abracadabra'\n",
        "\n",
        "print(isPalindrome(s))\n",
        "print(isPalindrome2(t))"
      ],
      "execution_count": null,
      "outputs": [
        {
          "output_type": "stream",
          "name": "stdout",
          "text": [
            "True\n",
            "False\n"
          ]
        }
      ]
    },
    {
      "cell_type": "markdown",
      "metadata": {
        "id": "IiXPc215IKnD"
      },
      "source": [
        ""
      ]
    },
    {
      "cell_type": "code",
      "metadata": {
        "colab": {
          "base_uri": "https://localhost:8080/"
        },
        "id": "msSJr01IEXZ9",
        "outputId": "a63d0683-c137-4998-febc-6aa995bc1d38"
      },
      "source": [
        "s=['k','a','y','a','k']\n",
        "\n",
        "python indices first is  i=0  and last  element i=length-1\n",
        "\n",
        "s0 ka kay kaya kayak\n",
        "s1 ay aya ayak\n",
        "s2 ya ayak\n",
        "s3 ak \n",
        "\n",
        "\n",
        "length=0\n",
        "longest_palindrome =''\n",
        "\n",
        "\n"
      ],
      "execution_count": null,
      "outputs": [
        {
          "output_type": "stream",
          "name": "stdout",
          "text": [
            "True\n",
            "False\n"
          ]
        }
      ]
    },
    {
      "cell_type": "code",
      "metadata": {
        "id": "bFgQ-f_dN38k"
      },
      "source": [
        "def longestSubStringPalindrome(s):\n",
        "  \n",
        "  length=0\n",
        "  longest_palindrome =''\n",
        "  word_list =[i for i in s]\n",
        "  print(word_list)\n",
        "  for i in range(0, len(word_list)-1):\n",
        "     word=''+ (str(word_list[i]))\n",
        "     print(word)\n",
        "     for j in range(i+1,len(word_list)):\n",
        "       word= word + (str(word_list[j]))\n",
        "       print(word)\n",
        "       if isPalindrome(word):\n",
        "         if len(word)> length:\n",
        "           length=len(word)\n",
        "           longest_palindrome=word\n",
        "  if (longest_palindrome) !='':\n",
        "    return print('The longest substring palindrome is: ', longest_palindrome)\n",
        "  else:\n",
        "    return print('No palindrome sub string found')\n",
        "  \n",
        "\n",
        "\n",
        "\n",
        "\n"
      ],
      "execution_count": 66,
      "outputs": []
    },
    {
      "cell_type": "code",
      "metadata": {
        "colab": {
          "base_uri": "https://localhost:8080/"
        },
        "id": "tVFmQF3xOVMc",
        "outputId": "d0c547bb-4342-426f-993c-1f74178229bf"
      },
      "source": [
        "palin= 'abbaracudducah'\n",
        "longestSubStringPalindrome(palin)\n"
      ],
      "execution_count": 67,
      "outputs": [
        {
          "output_type": "stream",
          "name": "stdout",
          "text": [
            "['a', 'b', 'b', 'a', 'r', 'a', 'c', 'u', 'd', 'd', 'u', 'c', 'a', 'h']\n",
            "a\n",
            "ab\n",
            "abb\n",
            "abba\n",
            "abbar\n",
            "abbara\n",
            "abbarac\n",
            "abbaracu\n",
            "abbaracud\n",
            "abbaracudd\n",
            "abbaracuddu\n",
            "abbaracudduc\n",
            "abbaracudduca\n",
            "abbaracudducah\n",
            "b\n",
            "bb\n",
            "bba\n",
            "bbar\n",
            "bbara\n",
            "bbarac\n",
            "bbaracu\n",
            "bbaracud\n",
            "bbaracudd\n",
            "bbaracuddu\n",
            "bbaracudduc\n",
            "bbaracudduca\n",
            "bbaracudducah\n",
            "b\n",
            "ba\n",
            "bar\n",
            "bara\n",
            "barac\n",
            "baracu\n",
            "baracud\n",
            "baracudd\n",
            "baracuddu\n",
            "baracudduc\n",
            "baracudduca\n",
            "baracudducah\n",
            "a\n",
            "ar\n",
            "ara\n",
            "arac\n",
            "aracu\n",
            "aracud\n",
            "aracudd\n",
            "aracuddu\n",
            "aracudduc\n",
            "aracudduca\n",
            "aracudducah\n",
            "r\n",
            "ra\n",
            "rac\n",
            "racu\n",
            "racud\n",
            "racudd\n",
            "racuddu\n",
            "racudduc\n",
            "racudduca\n",
            "racudducah\n",
            "a\n",
            "ac\n",
            "acu\n",
            "acud\n",
            "acudd\n",
            "acuddu\n",
            "acudduc\n",
            "acudduca\n",
            "acudducah\n",
            "c\n",
            "cu\n",
            "cud\n",
            "cudd\n",
            "cuddu\n",
            "cudduc\n",
            "cudduca\n",
            "cudducah\n",
            "u\n",
            "ud\n",
            "udd\n",
            "uddu\n",
            "udduc\n",
            "udduca\n",
            "udducah\n",
            "d\n",
            "dd\n",
            "ddu\n",
            "dduc\n",
            "dduca\n",
            "dducah\n",
            "d\n",
            "du\n",
            "duc\n",
            "duca\n",
            "ducah\n",
            "u\n",
            "uc\n",
            "uca\n",
            "ucah\n",
            "c\n",
            "ca\n",
            "cah\n",
            "a\n",
            "ah\n",
            "The longest substring palindrome is:  acudduca\n"
          ]
        }
      ]
    }
  ]
}